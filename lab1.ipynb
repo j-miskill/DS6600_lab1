{
 "cells": [
  {
   "cell_type": "markdown",
   "metadata": {},
   "source": [
    "# Question 1\n",
    "\n",
    "a. I created a new GitHub repository for this lab with README.md, .gitignore, and license files. \n",
    "\n",
    "b. I cloned the repository to my local device. \n",
    "\n",
    "c. I explained in the README why I chose the license I chose. Furthermore, here is the section of the `.gitignore` file that has the `.env` part:\n",
    "\n",
    "```\n",
    "# Environments\n",
    ".env\n",
    ".venv\n",
    "env/\n",
    "venv/\n",
    "```\n",
    "\n",
    "d. I will add, commit, and push my work to the repository as I work on the assignment. "
   ]
  },
  {
   "cell_type": "markdown",
   "metadata": {},
   "source": []
  }
 ],
 "metadata": {
  "language_info": {
   "name": "python"
  }
 },
 "nbformat": 4,
 "nbformat_minor": 2
}
