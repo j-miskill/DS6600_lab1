{
 "cells": [
  {
   "cell_type": "markdown",
   "metadata": {},
   "source": [
    "# Question 1\n",
    "\n",
    "a. I created a new GitHub repository for this lab with README.md, .gitignore, and license files. \n",
    "\n",
    "b. I cloned the repository to my local device. \n",
    "\n",
    "c. I explained in the README why I chose the license I chose. Furthermore, here is the section of the `.gitignore` file that has the `.env` part:\n",
    "\n",
    "```\n",
    "# Environments\n",
    ".env\n",
    ".venv\n",
    "env/\n",
    "venv/\n",
    "```\n",
    "\n",
    "d. I will add, commit, and push my work to the repository as I work on the assignment. "
   ]
  },
  {
   "cell_type": "markdown",
   "metadata": {},
   "source": [
    "# Question 2\n",
    "\n",
    "a. Everything created in the Pipfile:\n",
    "\n",
    "```\n",
    "[[source]]\n",
    "url = \"https://pypi.org/simple\"\n",
    "verify_ssl = true\n",
    "name = \"pypi\"\n",
    "\n",
    "[packages]\n",
    "numpy = \"==1.25.2\"\n",
    "pandas = \"==2.0.3\"\n",
    "matplotlib = \"==3.7.2\"\n",
    "requests = \"==2.31.0\"\n",
    "jupyterlab = \"==4.0.5\"\n",
    "ipykernel = \"==6.25.1\"\n",
    "\n",
    "[dev-packages]\n",
    "\n",
    "[requires]\n",
    "python_version = \"3.11.4\"\n",
    "```\n",
    "\n",
    "b. Running the `!python --version` command\n",
    "\n",
    "** note about this question: I have no idea why this won't work properly and display `3.11.4` as the right version of Python. I even restarted the whole lab to try to make it\n",
    "work, but to no avail. I will hopefully remember to ask about it on Monday. \n",
    "\n",
    "c. "
   ]
  },
  {
   "cell_type": "code",
   "execution_count": 1,
   "metadata": {},
   "outputs": [
    {
     "name": "stdout",
     "output_type": "stream",
     "text": [
      "Python 3.11.5\n"
     ]
    }
   ],
   "source": [
    "!python --version"
   ]
  },
  {
   "cell_type": "code",
   "execution_count": 2,
   "metadata": {},
   "outputs": [],
   "source": [
    "import numpy as np\n",
    "import pandas as pd\n",
    "import matplotlib as plt\n",
    "import requests"
   ]
  },
  {
   "cell_type": "code",
   "execution_count": 3,
   "metadata": {},
   "outputs": [
    {
     "ename": "ModuleNotFoundError",
     "evalue": "No module named 'sklearn'",
     "output_type": "error",
     "traceback": [
      "\u001b[0;31m---------------------------------------------------------------------------\u001b[0m",
      "\u001b[0;31mModuleNotFoundError\u001b[0m                       Traceback (most recent call last)",
      "Cell \u001b[0;32mIn[3], line 1\u001b[0m\n\u001b[0;32m----> 1\u001b[0m \u001b[38;5;28;01mimport\u001b[39;00m \u001b[38;5;21;01msklearn\u001b[39;00m\n",
      "\u001b[0;31mModuleNotFoundError\u001b[0m: No module named 'sklearn'"
     ]
    }
   ],
   "source": [
    "import sklearn"
   ]
  },
  {
   "cell_type": "markdown",
   "metadata": {},
   "source": [
    "# Question 3\n",
    "\n",
    "a. You would likely want to use a containerization system to complete this project. The reason for this is that this code will be used as a generalized software for a bunch of different meals on wheels chapters. Thus, you need to make sure that you have containers for databases for these Meals on Wheels chapters. Furthermore, you would also want a container for the actual software itself (like the website/app that you create for these chapters). Therefore, you would definitely want a containerized system. The other three options would not work because none of them would be able to provide a continuous service like these meals on wheels chapters need for their services.\n",
    "\n",
    "b. For this case, we can simply use a virtual environment. It fits the situation perfectly. It is a one-off project that will not be used again. They only need the report, nothing else from this project (no code). All other options would be overkill due to the fact that they would allocate an excessive amount of resources in comparison to what is required for the project. Containers and virtual machines would allocate resources to instantiating another \"computer\", which is unnecessary. It would work, but it would be overkill. Using global variables would also be overkill because it's a one-off project. No need to ruin your machine. \n",
    "\n",
    "c. Given that we need several open source image processing software packages that only work on Ubuntu Linux, we either need a virtual machine or a container. Because we are building a model, I would suggest a virtual machine. We can instantiate it to have the correct version of Linux and then we an build the model and save the outputs/model as needed. A container would likely work as well, but may be overkill given the resources it uses on your own machine. Furthermore, global and virtual environments would be not enough if you do not have Ubuntu Linux.\n",
    "\n",
    "d. You would likely want a virtual environment for this project. The reason being you want to transition to Python 4 in the future, so there is no reason to change your global variables for this project. Furthermore, you could use a VM or a container, but they would be overkill, unless you have a very complex project."
   ]
  },
  {
   "cell_type": "markdown",
   "metadata": {},
   "source": [
    "# Question 4\n",
    "\n",
    "a. The Dockerfile is present: \n",
    "\n",
    "```\n",
    "FROM ubuntu:latest\n",
    "RUN apt-get update\n",
    "RUN apt-get install -y python3\n",
    "CMD [\"python3\"]\n",
    "```\n",
    "\n",
    "b. The output from building the Dockerfile:\n",
    "\n",
    "```\n",
    "ds6600_lab1jacksonmiskill@Jacksons-MacBook-Pro-2 DS6600_lab1 % docker build . -t lab1docker\n",
    "[+] Building 1.0s (8/8) FINISHED                                                                                                          docker:desktop-linux\n",
    " => [internal] load build definition from Dockerfile                                                                                                      0.0s\n",
    " => => transferring dockerfile: 117B                                                                                                                      0.0s\n",
    " => [internal] load metadata for docker.io/library/ubuntu:latest                                                                                          0.4s\n",
    " => [internal] load .dockerignore                                                                                                                         0.0s\n",
    " => => transferring context: 2B                                                                                                                           0.0s\n",
    " => [1/4] FROM docker.io/library/ubuntu:latest@sha256:dfc10878be8d8fc9c61cbff33166cb1d1fe44391539243703c72766894fa834a                                    0.0s\n",
    " => CACHED [2/4] RUN apt-get update                                                                                                                       0.0s\n",
    " => CACHED [3/4] RUN apt-get install -y python3                                                                                                           0.0s\n",
    " => [4/4] RUN python3                                                                                                                                     0.2s\n",
    " => exporting to image                                                                                                                                    0.4s\n",
    " => => exporting layers                                                                                                                                   0.3s\n",
    " => => writing image sha256:88f42aad39d9a50c87fcb3235088a4cde3dab356c40f0f4edfc2b1da305d5891                                                              0.0s\n",
    " => => naming to docker.io/library/lab1docker                                                                                                             0.0s\n",
    "\n",
    "View build details: docker-desktop://dashboard/build/desktop-linux/desktop-linux/2puzn0n3if5dxryczk3qxokbh\n",
    "\n",
    "What's next:\n",
    "    View a summary of image vulnerabilities and recommendations → docker scout quickview \n",
    "```\n",
    "\n",
    "c. Output from running the Docker image in interactive mode (Python command line):\n",
    "\n",
    "```\n",
    "ds6600_lab1jacksonmiskill@Jacksons-MacBook-Pro-2 DS6600_lab1 % docker run -it lab1docker   \n",
    "Python 3.12.3 (main, Sep 11 2024, 14:17:37) [GCC 13.2.0] on linux\n",
    "Type \"help\", \"copyright\", \"credits\" or \"license\" for more information.\n",
    ">>>\n",
    "```"
   ]
  },
  {
   "cell_type": "markdown",
   "metadata": {},
   "source": [
    "# Question 5\n",
    "\n",
    "a. I have successfully created a new sub folder with each of the 4 different files that we need for this project. \n",
    "\n",
    "b. I have successfully written out the required packages and their versions for this project in the `requirements.txt` file in this `problem5` subfolder.\n",
    "\n",
    "c. I have successfully written the Dockerfile: \n",
    "\n",
    "```\n",
    "FROM python:3.11.4-bookworm\n",
    "RUN python -m pip install --upgrade pip\n",
    "COPY requirements.txt requirements.txt\n",
    "RUN pip install -r requirements.txt\n",
    "WORKDIR /problem5\n",
    "EXPOSE 8888\n",
    "```\n",
    "\n",
    "And I have committed it to Dockerhub: `jcmiskill/problem5docker`. (Here)[https://hub.docker.com/repository/docker/jcmiskill/problem5docker/general]!\n",
    "\n",
    "d. I have confirmed that the compose file works. \n"
   ]
  }
 ],
 "metadata": {
  "kernelspec": {
   "display_name": "ds6600_lab1-sdqVNX4H",
   "language": "python",
   "name": "python3"
  },
  "language_info": {
   "codemirror_mode": {
    "name": "ipython",
    "version": 3
   },
   "file_extension": ".py",
   "mimetype": "text/x-python",
   "name": "python",
   "nbconvert_exporter": "python",
   "pygments_lexer": "ipython3",
   "version": "3.11.5"
  }
 },
 "nbformat": 4,
 "nbformat_minor": 2
}
